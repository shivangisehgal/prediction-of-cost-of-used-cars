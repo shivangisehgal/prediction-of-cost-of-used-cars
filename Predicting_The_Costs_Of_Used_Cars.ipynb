{
  "nbformat": 4,
  "nbformat_minor": 0,
  "metadata": {
    "colab": {
      "name": "Predicting The Costs Of Used Cars.ipynb",
      "provenance": [],
      "collapsed_sections": [],
      "authorship_tag": "ABX9TyO2P19p37YjWxd0Pak1N6qi",
      "include_colab_link": true
    },
    "kernelspec": {
      "name": "python3",
      "display_name": "Python 3"
    },
    "language_info": {
      "name": "python"
    }
  },
  "cells": [
    {
      "cell_type": "markdown",
      "metadata": {
        "id": "view-in-github",
        "colab_type": "text"
      },
      "source": [
        "<a href=\"https://colab.research.google.com/github/shivangisehgal/prediction-of-cost-of-used-cars/blob/main/Predicting_The_Costs_Of_Used_Cars.ipynb\" target=\"_parent\"><img src=\"https://colab.research.google.com/assets/colab-badge.svg\" alt=\"Open In Colab\"/></a>"
      ]
    },
    {
      "cell_type": "code",
      "metadata": {
        "colab": {
          "base_uri": "https://localhost:8080/"
        },
        "id": "42OBov1sNTBR",
        "outputId": "a718964e-9a07-4e63-d6d1-424914f2d4af"
      },
      "source": [
        "from google.colab import drive\n",
        "drive.mount(\"/drive\")"
      ],
      "execution_count": null,
      "outputs": [
        {
          "output_type": "stream",
          "name": "stdout",
          "text": [
            "Drive already mounted at /drive; to attempt to forcibly remount, call drive.mount(\"/drive\", force_remount=True).\n"
          ]
        }
      ]
    },
    {
      "cell_type": "markdown",
      "metadata": {
        "id": "e2RNe3IEU-U5"
      },
      "source": [
        "## Importing Libraries"
      ]
    },
    {
      "cell_type": "code",
      "metadata": {
        "id": "QJ_yPuRqUsFL"
      },
      "source": [
        "import numpy as np\n",
        "import pandas as pd \n",
        "import matplotlib.pyplot as plt\n",
        "import seaborn as sns\n",
        "from sklearn.preprocessing import LabelEncoder, StandardScaler\n",
        "from sklearn.model_selection import train_test_split\n",
        "from sklearn.model_selection import cross_val_score\n",
        "from sklearn.metrics import mean_squared_error"
      ],
      "execution_count": null,
      "outputs": []
    },
    {
      "cell_type": "markdown",
      "metadata": {
        "id": "uvyW-pTZVWns"
      },
      "source": [
        "##Importing Dataset"
      ]
    },
    {
      "cell_type": "code",
      "metadata": {
        "id": "_SS4i__3VHIA"
      },
      "source": [
        "data = pd.read_csv('/content/Data_Train.csv')\n",
        "data_test = pd.read_csv('/content/Data_Test.csv')"
      ],
      "execution_count": null,
      "outputs": []
    },
    {
      "cell_type": "markdown",
      "metadata": {
        "id": "cWj6nRexX3P-"
      },
      "source": [
        "##Summarizing Dataset"
      ]
    },
    {
      "cell_type": "code",
      "metadata": {
        "colab": {
          "base_uri": "https://localhost:8080/",
          "height": 400
        },
        "id": "NEdYrE_BVgIb",
        "outputId": "f36208f6-2b80-40fd-9468-391023eaa6ec"
      },
      "source": [
        "data.head()\n"
      ],
      "execution_count": null,
      "outputs": [
        {
          "output_type": "execute_result",
          "data": {
            "text/html": [
              "<div>\n",
              "<style scoped>\n",
              "    .dataframe tbody tr th:only-of-type {\n",
              "        vertical-align: middle;\n",
              "    }\n",
              "\n",
              "    .dataframe tbody tr th {\n",
              "        vertical-align: top;\n",
              "    }\n",
              "\n",
              "    .dataframe thead th {\n",
              "        text-align: right;\n",
              "    }\n",
              "</style>\n",
              "<table border=\"1\" class=\"dataframe\">\n",
              "  <thead>\n",
              "    <tr style=\"text-align: right;\">\n",
              "      <th></th>\n",
              "      <th>Name</th>\n",
              "      <th>Location</th>\n",
              "      <th>Year</th>\n",
              "      <th>Kilometers_Driven</th>\n",
              "      <th>Fuel_Type</th>\n",
              "      <th>Transmission</th>\n",
              "      <th>Owner_Type</th>\n",
              "      <th>Mileage</th>\n",
              "      <th>Engine</th>\n",
              "      <th>Power</th>\n",
              "      <th>Seats</th>\n",
              "      <th>New_Price</th>\n",
              "      <th>Price</th>\n",
              "    </tr>\n",
              "  </thead>\n",
              "  <tbody>\n",
              "    <tr>\n",
              "      <th>0</th>\n",
              "      <td>Maruti Wagon R LXI CNG</td>\n",
              "      <td>Mumbai</td>\n",
              "      <td>2010</td>\n",
              "      <td>72000</td>\n",
              "      <td>CNG</td>\n",
              "      <td>Manual</td>\n",
              "      <td>First</td>\n",
              "      <td>26.6 km/kg</td>\n",
              "      <td>998 CC</td>\n",
              "      <td>58.16 bhp</td>\n",
              "      <td>5.0</td>\n",
              "      <td>NaN</td>\n",
              "      <td>1.75</td>\n",
              "    </tr>\n",
              "    <tr>\n",
              "      <th>1</th>\n",
              "      <td>Hyundai Creta 1.6 CRDi SX Option</td>\n",
              "      <td>Pune</td>\n",
              "      <td>2015</td>\n",
              "      <td>41000</td>\n",
              "      <td>Diesel</td>\n",
              "      <td>Manual</td>\n",
              "      <td>First</td>\n",
              "      <td>19.67 kmpl</td>\n",
              "      <td>1582 CC</td>\n",
              "      <td>126.2 bhp</td>\n",
              "      <td>5.0</td>\n",
              "      <td>NaN</td>\n",
              "      <td>12.50</td>\n",
              "    </tr>\n",
              "    <tr>\n",
              "      <th>2</th>\n",
              "      <td>Honda Jazz V</td>\n",
              "      <td>Chennai</td>\n",
              "      <td>2011</td>\n",
              "      <td>46000</td>\n",
              "      <td>Petrol</td>\n",
              "      <td>Manual</td>\n",
              "      <td>First</td>\n",
              "      <td>18.2 kmpl</td>\n",
              "      <td>1199 CC</td>\n",
              "      <td>88.7 bhp</td>\n",
              "      <td>5.0</td>\n",
              "      <td>8.61 Lakh</td>\n",
              "      <td>4.50</td>\n",
              "    </tr>\n",
              "    <tr>\n",
              "      <th>3</th>\n",
              "      <td>Maruti Ertiga VDI</td>\n",
              "      <td>Chennai</td>\n",
              "      <td>2012</td>\n",
              "      <td>87000</td>\n",
              "      <td>Diesel</td>\n",
              "      <td>Manual</td>\n",
              "      <td>First</td>\n",
              "      <td>20.77 kmpl</td>\n",
              "      <td>1248 CC</td>\n",
              "      <td>88.76 bhp</td>\n",
              "      <td>7.0</td>\n",
              "      <td>NaN</td>\n",
              "      <td>6.00</td>\n",
              "    </tr>\n",
              "    <tr>\n",
              "      <th>4</th>\n",
              "      <td>Audi A4 New 2.0 TDI Multitronic</td>\n",
              "      <td>Coimbatore</td>\n",
              "      <td>2013</td>\n",
              "      <td>40670</td>\n",
              "      <td>Diesel</td>\n",
              "      <td>Automatic</td>\n",
              "      <td>Second</td>\n",
              "      <td>15.2 kmpl</td>\n",
              "      <td>1968 CC</td>\n",
              "      <td>140.8 bhp</td>\n",
              "      <td>5.0</td>\n",
              "      <td>NaN</td>\n",
              "      <td>17.74</td>\n",
              "    </tr>\n",
              "  </tbody>\n",
              "</table>\n",
              "</div>"
            ],
            "text/plain": [
              "                               Name    Location  Year  ...  Seats  New_Price  Price\n",
              "0            Maruti Wagon R LXI CNG      Mumbai  2010  ...    5.0        NaN   1.75\n",
              "1  Hyundai Creta 1.6 CRDi SX Option        Pune  2015  ...    5.0        NaN  12.50\n",
              "2                      Honda Jazz V     Chennai  2011  ...    5.0  8.61 Lakh   4.50\n",
              "3                 Maruti Ertiga VDI     Chennai  2012  ...    7.0        NaN   6.00\n",
              "4   Audi A4 New 2.0 TDI Multitronic  Coimbatore  2013  ...    5.0        NaN  17.74\n",
              "\n",
              "[5 rows x 13 columns]"
            ]
          },
          "metadata": {},
          "execution_count": 4
        }
      ]
    },
    {
      "cell_type": "code",
      "metadata": {
        "colab": {
          "base_uri": "https://localhost:8080/"
        },
        "id": "MIZj4p9JViME",
        "outputId": "89ac438d-3fbe-4b8a-ea27-415446b77ac9"
      },
      "source": [
        "data.shape\n"
      ],
      "execution_count": null,
      "outputs": [
        {
          "output_type": "execute_result",
          "data": {
            "text/plain": [
              "(6019, 13)"
            ]
          },
          "metadata": {},
          "execution_count": 5
        }
      ]
    },
    {
      "cell_type": "code",
      "metadata": {
        "colab": {
          "base_uri": "https://localhost:8080/"
        },
        "id": "tmC69yjSVjWb",
        "outputId": "bdddb932-df1f-41c5-96f9-06ec47570cc4"
      },
      "source": [
        "data.columns"
      ],
      "execution_count": null,
      "outputs": [
        {
          "output_type": "execute_result",
          "data": {
            "text/plain": [
              "Index(['Name', 'Location', 'Year', 'Kilometers_Driven', 'Fuel_Type',\n",
              "       'Transmission', 'Owner_Type', 'Mileage', 'Engine', 'Power', 'Seats',\n",
              "       'New_Price', 'Price'],\n",
              "      dtype='object')"
            ]
          },
          "metadata": {},
          "execution_count": 6
        }
      ]
    },
    {
      "cell_type": "code",
      "metadata": {
        "colab": {
          "base_uri": "https://localhost:8080/",
          "height": 300
        },
        "id": "PgAFM8poYLla",
        "outputId": "a567c782-34a4-4f29-e208-b0179fc81e7b"
      },
      "source": [
        "data.describe()"
      ],
      "execution_count": null,
      "outputs": [
        {
          "output_type": "execute_result",
          "data": {
            "text/html": [
              "<div>\n",
              "<style scoped>\n",
              "    .dataframe tbody tr th:only-of-type {\n",
              "        vertical-align: middle;\n",
              "    }\n",
              "\n",
              "    .dataframe tbody tr th {\n",
              "        vertical-align: top;\n",
              "    }\n",
              "\n",
              "    .dataframe thead th {\n",
              "        text-align: right;\n",
              "    }\n",
              "</style>\n",
              "<table border=\"1\" class=\"dataframe\">\n",
              "  <thead>\n",
              "    <tr style=\"text-align: right;\">\n",
              "      <th></th>\n",
              "      <th>Year</th>\n",
              "      <th>Kilometers_Driven</th>\n",
              "      <th>Seats</th>\n",
              "      <th>Price</th>\n",
              "    </tr>\n",
              "  </thead>\n",
              "  <tbody>\n",
              "    <tr>\n",
              "      <th>count</th>\n",
              "      <td>6019.000000</td>\n",
              "      <td>6.019000e+03</td>\n",
              "      <td>5977.000000</td>\n",
              "      <td>6019.000000</td>\n",
              "    </tr>\n",
              "    <tr>\n",
              "      <th>mean</th>\n",
              "      <td>2013.358199</td>\n",
              "      <td>5.873838e+04</td>\n",
              "      <td>5.278735</td>\n",
              "      <td>9.479468</td>\n",
              "    </tr>\n",
              "    <tr>\n",
              "      <th>std</th>\n",
              "      <td>3.269742</td>\n",
              "      <td>9.126884e+04</td>\n",
              "      <td>0.808840</td>\n",
              "      <td>11.187917</td>\n",
              "    </tr>\n",
              "    <tr>\n",
              "      <th>min</th>\n",
              "      <td>1998.000000</td>\n",
              "      <td>1.710000e+02</td>\n",
              "      <td>0.000000</td>\n",
              "      <td>0.440000</td>\n",
              "    </tr>\n",
              "    <tr>\n",
              "      <th>25%</th>\n",
              "      <td>2011.000000</td>\n",
              "      <td>3.400000e+04</td>\n",
              "      <td>5.000000</td>\n",
              "      <td>3.500000</td>\n",
              "    </tr>\n",
              "    <tr>\n",
              "      <th>50%</th>\n",
              "      <td>2014.000000</td>\n",
              "      <td>5.300000e+04</td>\n",
              "      <td>5.000000</td>\n",
              "      <td>5.640000</td>\n",
              "    </tr>\n",
              "    <tr>\n",
              "      <th>75%</th>\n",
              "      <td>2016.000000</td>\n",
              "      <td>7.300000e+04</td>\n",
              "      <td>5.000000</td>\n",
              "      <td>9.950000</td>\n",
              "    </tr>\n",
              "    <tr>\n",
              "      <th>max</th>\n",
              "      <td>2019.000000</td>\n",
              "      <td>6.500000e+06</td>\n",
              "      <td>10.000000</td>\n",
              "      <td>160.000000</td>\n",
              "    </tr>\n",
              "  </tbody>\n",
              "</table>\n",
              "</div>"
            ],
            "text/plain": [
              "              Year  Kilometers_Driven        Seats        Price\n",
              "count  6019.000000       6.019000e+03  5977.000000  6019.000000\n",
              "mean   2013.358199       5.873838e+04     5.278735     9.479468\n",
              "std       3.269742       9.126884e+04     0.808840    11.187917\n",
              "min    1998.000000       1.710000e+02     0.000000     0.440000\n",
              "25%    2011.000000       3.400000e+04     5.000000     3.500000\n",
              "50%    2014.000000       5.300000e+04     5.000000     5.640000\n",
              "75%    2016.000000       7.300000e+04     5.000000     9.950000\n",
              "max    2019.000000       6.500000e+06    10.000000   160.000000"
            ]
          },
          "metadata": {},
          "execution_count": 7
        }
      ]
    },
    {
      "cell_type": "code",
      "metadata": {
        "colab": {
          "base_uri": "https://localhost:8080/"
        },
        "id": "ik9MKN08Yfuo",
        "outputId": "25041a42-deac-4091-84ef-5f06b095667a"
      },
      "source": [
        "data.isnull().sum()"
      ],
      "execution_count": null,
      "outputs": [
        {
          "output_type": "execute_result",
          "data": {
            "text/plain": [
              "Name                    0\n",
              "Location                0\n",
              "Year                    0\n",
              "Kilometers_Driven       0\n",
              "Fuel_Type               0\n",
              "Transmission            0\n",
              "Owner_Type              0\n",
              "Mileage                 2\n",
              "Engine                 36\n",
              "Power                  36\n",
              "Seats                  42\n",
              "New_Price            5195\n",
              "Price                   0\n",
              "dtype: int64"
            ]
          },
          "metadata": {},
          "execution_count": 8
        }
      ]
    },
    {
      "cell_type": "code",
      "metadata": {
        "colab": {
          "base_uri": "https://localhost:8080/"
        },
        "id": "ZEd-uvr-jVxd",
        "outputId": "02265658-29b0-4030-a7d5-7b07aafd5a98"
      },
      "source": [
        "data.nunique()"
      ],
      "execution_count": null,
      "outputs": [
        {
          "output_type": "execute_result",
          "data": {
            "text/plain": [
              "Name                 1876\n",
              "Location               11\n",
              "Year                   22\n",
              "Kilometers_Driven    3093\n",
              "Fuel_Type               5\n",
              "Transmission            2\n",
              "Owner_Type              4\n",
              "Mileage               442\n",
              "Engine                146\n",
              "Power                 372\n",
              "Seats                   9\n",
              "New_Price             540\n",
              "Price                1373\n",
              "dtype: int64"
            ]
          },
          "metadata": {},
          "execution_count": 9
        }
      ]
    },
    {
      "cell_type": "markdown",
      "metadata": {
        "id": "ntJ8zzVRmyk6"
      },
      "source": [
        "##Data Cleaning"
      ]
    },
    {
      "cell_type": "code",
      "metadata": {
        "colab": {
          "base_uri": "https://localhost:8080/",
          "height": 400
        },
        "id": "Ua1J0mpCx2XA",
        "outputId": "d64812c1-746d-40cd-b37c-28dfc59315d4"
      },
      "source": [
        "#Removing kmpl,km/kg from Mileage by taking the part of the string before ' ' and storing it as float\n",
        "data['Mileage'] = data['Mileage'].apply(lambda x : str(x).split(' ')[0]).astype(float)\n",
        "#Removing cc from Engine by taking the part of the string before ' ' and storing it as float\n",
        "data['Engine'] = data['Engine'].apply(lambda x : str(x).split(' ')[0]).astype(float)\n",
        "#Replacing null bhp as 0 bhp and then removing bhp from Power by taking the part of the string before ' ' and storing it as float\n",
        "data['Power'] = data['Power'].replace('null bhp','0 bhp').apply(lambda x : str(x).split(' ')[0]).astype(float)\n",
        "#Function to conver 'Cr' in 'New_Price' to Lakh (as well as modifying the numeric value accordingly)\n",
        "def crtolakh(x):\n",
        "    if(str(x).find('Cr') != -1):\n",
        "        returnvalue = float(str(x)[:-3])*100\n",
        "        returnvalue = str(returnvalue) + \" Lakh\"\n",
        "        return returnvalue\n",
        "    else: \n",
        "      return x\n",
        "#Modifying New_Price to convert Cr to Lakh\n",
        "data['New_Price'].replace(np.nan, 0.0, inplace = True)\n",
        "data['New_Price'] = data['New_Price'].apply(crtolakh)\n",
        "data['New_Price'] = data['New_Price'].apply(lambda x : str(x).split(' ')[0]).astype(float)\n",
        "#Converting 0 values to NaN\n",
        "data['New_Price'].replace(0.0, np.nan, inplace = True)\n",
        "data['Mileage'].replace(0.0, np.nan, inplace = True)\n",
        "data['Power'].replace(0.0, np.nan, inplace = True)\n",
        "data['Seats'].replace(0.0, np.nan, inplace = True)\n",
        "\n",
        "#PERFORMING SAME STEPS FOR TEST DATASET\n",
        "#Removing kmpl,km/kg from Mileage by taking the part of the string before ' ' and storing it as float\n",
        "data_test['Mileage'] = data_test['Mileage'].apply(lambda x : str(x).split(' ')[0]).astype(float)\n",
        "#Removing cc from Engine by taking the part of the string before ' ' and storing it as float\n",
        "data_test['Engine'] = data_test['Engine'].apply(lambda x : str(x).split(' ')[0]).astype(float)\n",
        "#Replacing null as 0 and removing bhp from Power by taking the part of the string before ' ' and storing it as float\n",
        "data_test['Power'] = data_test['Power'].replace('null bhp','0 bhp').apply(lambda x : str(x).split(' ')[0]).astype(float)#function for converting columns having value in crores to lacs\n",
        "\n",
        "data_test['New_Price'].replace(np.nan, 0.0, inplace = True)\n",
        "data_test['New_Price'] = data_test['New_Price'].apply(crtolakh)\n",
        "data_test['New_Price'] = data_test['New_Price'].apply(lambda x : str(x).split(' ')[0]).astype(float)\n",
        "data_test['New_Price'].replace(0.0, np.nan, inplace = True)\n",
        "data_test['Mileage'].replace(0.0, np.nan, inplace = True)\n",
        "data_test['Power'].replace(0.0, np.nan, inplace = True)\n",
        "data_test['Seats'].replace(0.0, np.nan, inplace = True)\n",
        "\n",
        "data.head()\n",
        "\n"
      ],
      "execution_count": null,
      "outputs": [
        {
          "output_type": "execute_result",
          "data": {
            "text/html": [
              "<div>\n",
              "<style scoped>\n",
              "    .dataframe tbody tr th:only-of-type {\n",
              "        vertical-align: middle;\n",
              "    }\n",
              "\n",
              "    .dataframe tbody tr th {\n",
              "        vertical-align: top;\n",
              "    }\n",
              "\n",
              "    .dataframe thead th {\n",
              "        text-align: right;\n",
              "    }\n",
              "</style>\n",
              "<table border=\"1\" class=\"dataframe\">\n",
              "  <thead>\n",
              "    <tr style=\"text-align: right;\">\n",
              "      <th></th>\n",
              "      <th>Name</th>\n",
              "      <th>Location</th>\n",
              "      <th>Year</th>\n",
              "      <th>Kilometers_Driven</th>\n",
              "      <th>Fuel_Type</th>\n",
              "      <th>Transmission</th>\n",
              "      <th>Owner_Type</th>\n",
              "      <th>Mileage</th>\n",
              "      <th>Engine</th>\n",
              "      <th>Power</th>\n",
              "      <th>Seats</th>\n",
              "      <th>New_Price</th>\n",
              "      <th>Price</th>\n",
              "    </tr>\n",
              "  </thead>\n",
              "  <tbody>\n",
              "    <tr>\n",
              "      <th>0</th>\n",
              "      <td>Maruti Wagon R LXI CNG</td>\n",
              "      <td>Mumbai</td>\n",
              "      <td>2010</td>\n",
              "      <td>72000</td>\n",
              "      <td>CNG</td>\n",
              "      <td>Manual</td>\n",
              "      <td>First</td>\n",
              "      <td>26.60</td>\n",
              "      <td>998.0</td>\n",
              "      <td>58.16</td>\n",
              "      <td>5.0</td>\n",
              "      <td>NaN</td>\n",
              "      <td>1.75</td>\n",
              "    </tr>\n",
              "    <tr>\n",
              "      <th>1</th>\n",
              "      <td>Hyundai Creta 1.6 CRDi SX Option</td>\n",
              "      <td>Pune</td>\n",
              "      <td>2015</td>\n",
              "      <td>41000</td>\n",
              "      <td>Diesel</td>\n",
              "      <td>Manual</td>\n",
              "      <td>First</td>\n",
              "      <td>19.67</td>\n",
              "      <td>1582.0</td>\n",
              "      <td>126.20</td>\n",
              "      <td>5.0</td>\n",
              "      <td>NaN</td>\n",
              "      <td>12.50</td>\n",
              "    </tr>\n",
              "    <tr>\n",
              "      <th>2</th>\n",
              "      <td>Honda Jazz V</td>\n",
              "      <td>Chennai</td>\n",
              "      <td>2011</td>\n",
              "      <td>46000</td>\n",
              "      <td>Petrol</td>\n",
              "      <td>Manual</td>\n",
              "      <td>First</td>\n",
              "      <td>18.20</td>\n",
              "      <td>1199.0</td>\n",
              "      <td>88.70</td>\n",
              "      <td>5.0</td>\n",
              "      <td>8.61</td>\n",
              "      <td>4.50</td>\n",
              "    </tr>\n",
              "    <tr>\n",
              "      <th>3</th>\n",
              "      <td>Maruti Ertiga VDI</td>\n",
              "      <td>Chennai</td>\n",
              "      <td>2012</td>\n",
              "      <td>87000</td>\n",
              "      <td>Diesel</td>\n",
              "      <td>Manual</td>\n",
              "      <td>First</td>\n",
              "      <td>20.77</td>\n",
              "      <td>1248.0</td>\n",
              "      <td>88.76</td>\n",
              "      <td>7.0</td>\n",
              "      <td>NaN</td>\n",
              "      <td>6.00</td>\n",
              "    </tr>\n",
              "    <tr>\n",
              "      <th>4</th>\n",
              "      <td>Audi A4 New 2.0 TDI Multitronic</td>\n",
              "      <td>Coimbatore</td>\n",
              "      <td>2013</td>\n",
              "      <td>40670</td>\n",
              "      <td>Diesel</td>\n",
              "      <td>Automatic</td>\n",
              "      <td>Second</td>\n",
              "      <td>15.20</td>\n",
              "      <td>1968.0</td>\n",
              "      <td>140.80</td>\n",
              "      <td>5.0</td>\n",
              "      <td>NaN</td>\n",
              "      <td>17.74</td>\n",
              "    </tr>\n",
              "  </tbody>\n",
              "</table>\n",
              "</div>"
            ],
            "text/plain": [
              "                               Name    Location  Year  ...  Seats New_Price  Price\n",
              "0            Maruti Wagon R LXI CNG      Mumbai  2010  ...    5.0       NaN   1.75\n",
              "1  Hyundai Creta 1.6 CRDi SX Option        Pune  2015  ...    5.0       NaN  12.50\n",
              "2                      Honda Jazz V     Chennai  2011  ...    5.0      8.61   4.50\n",
              "3                 Maruti Ertiga VDI     Chennai  2012  ...    7.0       NaN   6.00\n",
              "4   Audi A4 New 2.0 TDI Multitronic  Coimbatore  2013  ...    5.0       NaN  17.74\n",
              "\n",
              "[5 rows x 13 columns]"
            ]
          },
          "metadata": {},
          "execution_count": 10
        }
      ]
    },
    {
      "cell_type": "code",
      "metadata": {
        "colab": {
          "base_uri": "https://localhost:8080/"
        },
        "id": "Q5k70P3N5H7-",
        "outputId": "b45d6275-c52d-455c-fd8b-2cc8bab5d3fd"
      },
      "source": [
        "data.isnull().sum()"
      ],
      "execution_count": null,
      "outputs": [
        {
          "output_type": "execute_result",
          "data": {
            "text/plain": [
              "Name                    0\n",
              "Location                0\n",
              "Year                    0\n",
              "Kilometers_Driven       0\n",
              "Fuel_Type               0\n",
              "Transmission            0\n",
              "Owner_Type              0\n",
              "Mileage                70\n",
              "Engine                 36\n",
              "Power                 143\n",
              "Seats                  43\n",
              "New_Price            5195\n",
              "Price                   0\n",
              "dtype: int64"
            ]
          },
          "metadata": {},
          "execution_count": 11
        }
      ]
    },
    {
      "cell_type": "markdown",
      "metadata": {
        "id": "NA4vOsuhw-bN"
      },
      "source": [
        "### Encoding Categorical Data"
      ]
    },
    {
      "cell_type": "markdown",
      "metadata": {
        "id": "t0PldemyhbUn"
      },
      "source": [
        "##Data Visualization"
      ]
    },
    {
      "cell_type": "markdown",
      "metadata": {
        "id": "2wOylBXVhjtb"
      },
      "source": [
        "### Univariate Plots"
      ]
    },
    {
      "cell_type": "markdown",
      "metadata": {
        "id": "mkOO5fn91Af4"
      },
      "source": [
        "Bar Plots"
      ]
    },
    {
      "cell_type": "code",
      "metadata": {
        "colab": {
          "base_uri": "https://localhost:8080/",
          "height": 530
        },
        "id": "DoUp7zQQj4iE",
        "outputId": "976a0e2a-b236-4fc1-e8a1-33ecb23d69f5"
      },
      "source": [
        "#LOCATION\n",
        "plt.figure(figsize=(15,8))\n",
        "sns.countplot(y = 'Location', data = data).set_title('Count of cars for each Location')"
      ],
      "execution_count": null,
      "outputs": [
        {
          "output_type": "execute_result",
          "data": {
            "text/plain": [
              "Text(0.5, 1.0, 'Count of cars for each Location')"
            ]
          },
          "metadata": {},
          "execution_count": 12
        },
        {
          "output_type": "display_data",
          "data": {
            "image/png": "[encoded data removed]",
            "text/plain": [
              "<Figure size 1080x576 with 1 Axes>"
            ]
          },
          "metadata": {
            "needs_background": "light"
          }
        }
      ]
    },
    {
      "cell_type": "code",
      "metadata": {
        "colab": {
          "base_uri": "https://localhost:8080/",
          "height": 530
        },
        "id": "Yxh0IxBeYyI5",
        "outputId": "4fcb6406-94e4-4a47-9519-9feb3cde1a10"
      },
      "source": [
        "#YEAR\n",
        "plt.figure(figsize=(15,8))\n",
        "sns.countplot(y = 'Year', data = data).set_title('Count of cars Vs Year of model')"
      ],
      "execution_count": null,
      "outputs": [
        {
          "output_type": "execute_result",
          "data": {
            "text/plain": [
              "Text(0.5, 1.0, 'Count of cars Vs Year of model')"
            ]
          },
          "metadata": {},
          "execution_count": 13
        },
        {
          "output_type": "display_data",
          "data": {
            "image/png": "[encoded data removed]",
            "text/plain": [
              "<Figure size 1080x576 with 1 Axes>"
            ]
          },
          "metadata": {
            "needs_background": "light"
          }
        }
      ]
    },
    {
      "cell_type": "code",
      "metadata": {
        "colab": {
          "base_uri": "https://localhost:8080/",
          "height": 368
        },
        "id": "T4u_oKGqbEKD",
        "outputId": "021bce31-3466-4152-fa0b-33329c4b1fb0"
      },
      "source": [
        "#FUEL TYPE\n",
        "plt.figure(figsize=(10,5))\n",
        "sns.countplot(x = 'Fuel_Type', data = data).set_title('Count of cars Vs Year of model')"
      ],
      "execution_count": null,
      "outputs": [
        {
          "output_type": "execute_result",
          "data": {
            "text/plain": [
              "Text(0.5, 1.0, 'Count of cars Vs Year of model')"
            ]
          },
          "metadata": {},
          "execution_count": 14
        },
        {
          "output_type": "display_data",
          "data": {
            "image/png": "[encoded data removed]",
            "text/plain": [
              "<Figure size 720x360 with 1 Axes>"
            ]
          },
          "metadata": {
            "needs_background": "light"
          }
        }
      ]
    },
    {
      "cell_type": "markdown",
      "metadata": {
        "id": "Tv5h5htI1jTw"
      },
      "source": [
        "Box Plots"
      ]
    },
    {
      "cell_type": "code",
      "metadata": {
        "colab": {
          "base_uri": "https://localhost:8080/",
          "height": 1000
        },
        "id": "RnLEkPDO1kwf",
        "outputId": "005453a7-5ef2-4d74-ce6b-dd3cb0b12316"
      },
      "source": [
        "numeric_data = data[['Kilometers_Driven','Mileage','Engine','Power', 'New_Price']]\n",
        "numeric_data.plot(kind = 'box', subplots = True, layout = (3,2), sharex = False, sharey = False, fontsize=10, figsize = (30, 30))\n",
        "plt.show()"
      ],
      "execution_count": null,
      "outputs": [
        {
          "output_type": "display_data",
          "data": {
            "image/png": "[encoded data removed]",
            "text/plain": [
              "<Figure size 2160x2160 with 6 Axes>"
            ]
          },
          "metadata": {
            "needs_background": "light"
          }
        }
      ]
    },
    {
      "cell_type": "markdown",
      "metadata": {
        "id": "X95hEvly2kRi"
      },
      "source": [
        "Thus, there are outliers in every feature of numeric_data"
      ]
    },
    {
      "cell_type": "code",
      "metadata": {
        "colab": {
          "base_uri": "https://localhost:8080/",
          "height": 668
        },
        "id": "KQFCRWnT28sO",
        "outputId": "f4d2fc1e-bb53-459f-c317-91c7b8c9bc92"
      },
      "source": [
        "numeric_data = data[['Kilometers_Driven','Mileage','Engine','Power','New_Price', 'Price']]\n",
        "corrmat = numeric_data.corr(method='pearson')\n",
        "cmap = sns.diverging_palette(220, 20, as_cmap=True)\n",
        "fig, ax = plt.subplots()\n",
        "fig.set_size_inches(11,11)\n",
        "sns.heatmap(corrmat, cmap = cmap, annot = True)"
      ],
      "execution_count": null,
      "outputs": [
        {
          "output_type": "execute_result",
          "data": {
            "text/plain": [
              "<matplotlib.axes._subplots.AxesSubplot at 0x7f9087508d50>"
            ]
          },
          "metadata": {},
          "execution_count": 16
        },
        {
          "output_type": "display_data",
          "data": {
            "image/png": "[encoded data removed]",
            "text/plain": [
              "<Figure size 792x792 with 2 Axes>"
            ]
          },
          "metadata": {
            "needs_background": "light"
          }
        }
      ]
    },
    {
      "cell_type": "markdown",
      "metadata": {
        "id": "yLeVlthK6MSR"
      },
      "source": [
        "Engine, Power and New Price are features of importance as price is heavily correlated to them(0.66, 0.77 and 0.87 respevtively)"
      ]
    },
    {
      "cell_type": "markdown",
      "metadata": {
        "id": "vS6LlZ85m4wA"
      },
      "source": [
        "## Filling Missing Values"
      ]
    },
    {
      "cell_type": "code",
      "metadata": {
        "colab": {
          "base_uri": "https://localhost:8080/"
        },
        "id": "-IoLqTPj5bWZ",
        "outputId": "c0197149-810e-41a5-c86e-a1e114e1afb6"
      },
      "source": [
        "#Grouping Cars by their Base Model and filling missing values with the median of the values for the repective Model\n",
        "data['Base_Model'] = data['Name'].apply(lambda x: ' '.join(x.split(' ')[:2]))\n",
        "data['Engine'] = data.groupby(['Base_Model']).transform(lambda x: x.fillna(x.median()))['Engine']\n",
        "data['Mileage'] = data.groupby(['Base_Model']).transform(lambda x: x.fillna(x.median()))['Mileage']\n",
        "data['Power'] = data.groupby(['Base_Model']).transform(lambda x: x.fillna(x.median()))['Power']\n",
        "data['Seats'] = data.groupby(['Base_Model']).transform(lambda x: x.fillna(x.median()))['Seats']\n",
        "#Grouping Cars by their Base Model and filling missing values of New_Price with the mean of the values of the repective Model\n",
        "data['New_Price'] = data.groupby(['Base_Model']).transform(lambda x: x.fillna(x.mean()))['New_Price']\n",
        "\n",
        "#Grouping Cars by their Company / Brand and filling the *remaining* missing values with the median of the values for the repective Company\n",
        "data['Company'] = data['Name'].apply(lambda x: x.split(' ')[0])\n",
        "data['Mileage'] = data.groupby(['Company']).transform(lambda x: x.fillna(x.median()))['Mileage']\n",
        "data['Power'] = data.groupby(['Company']).transform(lambda x: x.fillna(x.median()))['Power']\n",
        "data['Seats'] = data.groupby(['Company']).transform(lambda x: x.fillna(x.median()))['Seats']\n",
        "#Grouping Cars by their Company / Brand and filling the *remaining* missing values of New_Price with the mean of the values for the repective Company\n",
        "data['New_Price'] = data.groupby(['Company']).transform(lambda x: x.fillna(x.mean()))['New_Price']\n",
        "\n",
        "#Filling the final *remaining* missing values with the overall median of the values\n",
        "data['Mileage'] = data['Mileage'].fillna(data['Mileage'].median())\n",
        "data['Engine'] = data['Engine'].fillna(data['Engine'].median())\n",
        "data['Power'] = data['Power'].fillna(data['Power'].median())\n",
        "data['Seats'] = data['Seats'].fillna(data['Seats'].median())\n",
        "#Filling the final *remaining* missing values of New_Price with the overall mean of the values\n",
        "data['New_Price'] = data['New_Price'].fillna(data['New_Price'].mean())\n",
        "\n",
        "\n",
        "#PERFORMING SAME STEPS FOR TEST DATASET\n",
        "data_test['Base_Model'] = data_test['Name'].apply(lambda x: ' '.join(x.split(' ')[:2]))\n",
        "data_test['Engine'] = data_test.groupby(['Base_Model']).transform(lambda x: x.fillna(x.median()))['Engine']\n",
        "data_test['Mileage'] = data_test.groupby(['Base_Model']).transform(lambda x: x.fillna(x.median()))['Mileage']\n",
        "data_test['Power'] = data_test.groupby(['Base_Model']).transform(lambda x: x.fillna(x.median()))['Power']\n",
        "data_test['Seats'] = data_test.groupby(['Base_Model']).transform(lambda x: x.fillna(x.median()))['Seats']\n",
        "data_test['New_Price'] = data_test.groupby(['Base_Model']).transform(lambda x: x.fillna(x.mean()))['New_Price']\n",
        "data_test['Company'] = data_test['Name'].apply(lambda x: x.split(' ')[0])\n",
        "data_test['Mileage'] = data_test.groupby(['Company']).transform(lambda x: x.fillna(x.median()))['Mileage']\n",
        "data_test['Power'] = data_test.groupby(['Company']).transform(lambda x: x.fillna(x.median()))['Power']\n",
        "data_test['Seats'] = data_test.groupby(['Company']).transform(lambda x: x.fillna(x.median()))['Seats']\n",
        "data_test['New_Price'] = data_test.groupby(['Company']).transform(lambda x: x.fillna(x.mean()))['New_Price']\n",
        "data_test['Mileage'] = data_test['Mileage'].fillna(data_test['Mileage'].median())\n",
        "data_test['Engine'] = data_test['Engine'].fillna(data_test['Engine'].median())\n",
        "data_test['Power'] = data_test['Power'].fillna(data_test['Power'].median())\n",
        "data_test['Seats'] = data_test['Seats'].fillna(data_test['Seats'].median())\n",
        "data_test['New_Price'] = data_test['New_Price'].fillna(data_test['New_Price'].mean())\n",
        "\n",
        "\n",
        "data.isnull().sum()"
      ],
      "execution_count": null,
      "outputs": [
        {
          "output_type": "execute_result",
          "data": {
            "text/plain": [
              "Name                 0\n",
              "Location             0\n",
              "Year                 0\n",
              "Kilometers_Driven    0\n",
              "Fuel_Type            0\n",
              "Transmission         0\n",
              "Owner_Type           0\n",
              "Mileage              0\n",
              "Engine               0\n",
              "Power                0\n",
              "Seats                0\n",
              "New_Price            0\n",
              "Price                0\n",
              "Base_Model           0\n",
              "Company              0\n",
              "dtype: int64"
            ]
          },
          "metadata": {},
          "execution_count": 17
        }
      ]
    },
    {
      "cell_type": "code",
      "metadata": {
        "colab": {
          "base_uri": "https://localhost:8080/",
          "height": 668
        },
        "id": "XKRBr4PZ8OCW",
        "outputId": "cb28f096-d064-41ba-c89c-0203662639e9"
      },
      "source": [
        "numeric_data = data[['Kilometers_Driven','Mileage','Engine','Power','New_Price', 'Price']]\n",
        "corrmat = numeric_data.corr(method='pearson')\n",
        "cmap = sns.diverging_palette(220, 20, as_cmap=True)\n",
        "fig, ax = plt.subplots()\n",
        "fig.set_size_inches(11,11)\n",
        "sns.heatmap(corrmat, cmap = cmap, annot = True)"
      ],
      "execution_count": null,
      "outputs": [
        {
          "output_type": "execute_result",
          "data": {
            "text/plain": [
              "<matplotlib.axes._subplots.AxesSubplot at 0x7f908786be90>"
            ]
          },
          "metadata": {},
          "execution_count": 18
        },
        {
          "output_type": "display_data",
          "data": {
            "image/png": "[encoded data removed]",
            "text/plain": [
              "<Figure size 792x792 with 2 Axes>"
            ]
          },
          "metadata": {
            "needs_background": "light"
          }
        }
      ]
    },
    {
      "cell_type": "markdown",
      "metadata": {
        "id": "Eg9NwQSQP5iA"
      },
      "source": [
        "Dependence still remains significant on the previously stated features"
      ]
    },
    {
      "cell_type": "markdown",
      "metadata": {
        "id": "x0ar9zR5QVBD"
      },
      "source": [
        "## Outlier Removal Using IQR"
      ]
    },
    {
      "cell_type": "code",
      "metadata": {
        "id": "cvzWN1V3Qa8u"
      },
      "source": [
        "\n",
        "outlier_dataset = data[['Mileage','Engine']]\n",
        "outlier_dataset_skew = data[['Kilometers_Driven','Power','New_Price']]\n",
        "Q1 = outlier_dataset.quantile(0.25)\n",
        "Q1_s = outlier_dataset_skew.quantile(0.25)\n",
        "Q3 = outlier_dataset.quantile(0.75)\n",
        "Q3_s = outlier_dataset_skew.quantile(0.75)\n",
        "\n",
        "IQR = Q3 - Q1\n",
        "IQR_s = Q3_s - Q1_s\n",
        "Min = Q1 - (1.5*IQR)\n",
        "Max = Q3 + (1.5*IQR)\n",
        "Min_s = Q1_s - (3*IQR_s)\n",
        "Max_s = Q3_s + (3*IQR_s) \n"
      ],
      "execution_count": null,
      "outputs": []
    },
    {
      "cell_type": "code",
      "metadata": {
        "id": "-O4x0oxdQ-yT"
      },
      "source": [
        "\n",
        "data_temp = data.copy()\n"
      ],
      "execution_count": null,
      "outputs": []
    },
    {
      "cell_type": "code",
      "metadata": {
        "id": "0ClbWKoCROEe"
      },
      "source": [
        "\n",
        "data_temp = data_temp[~((data_temp[['Engine','Mileage']] < Min) | (data_temp[['Engine','Mileage']] > Max)).any(axis=1)]\n",
        "data_temp = data_temp[~((data_temp[['Kilometers_Driven','Power','New_Price']] < Min_s) | (data_temp[['Kilometers_Driven','Power','New_Price']] > Max_s)).any(axis=1)]\n"
      ],
      "execution_count": null,
      "outputs": []
    },
    {
      "cell_type": "code",
      "metadata": {
        "colab": {
          "base_uri": "https://localhost:8080/"
        },
        "id": "xp2_FStESQKc",
        "outputId": "c6bdbfe9-0e4a-4998-8b33-5f8fca51e370"
      },
      "source": [
        "data.shape"
      ],
      "execution_count": null,
      "outputs": [
        {
          "output_type": "execute_result",
          "data": {
            "text/plain": [
              "(6019, 15)"
            ]
          },
          "metadata": {},
          "execution_count": 22
        }
      ]
    },
    {
      "cell_type": "code",
      "metadata": {
        "colab": {
          "base_uri": "https://localhost:8080/"
        },
        "id": "BSeq7UGcSUkG",
        "outputId": "1f654a6e-11c9-44b6-fb99-c40420c66830"
      },
      "source": [
        "data_temp.shape"
      ],
      "execution_count": null,
      "outputs": [
        {
          "output_type": "execute_result",
          "data": {
            "text/plain": [
              "(5512, 15)"
            ]
          },
          "metadata": {},
          "execution_count": 23
        }
      ]
    },
    {
      "cell_type": "code",
      "metadata": {
        "colab": {
          "base_uri": "https://localhost:8080/",
          "height": 863
        },
        "id": "E2EFiY2-SjtX",
        "outputId": "ac1285f3-6c8d-414f-ee04-e4ca56847066"
      },
      "source": [
        "\n",
        "numeric_data = data_temp[['Kilometers_Driven','Mileage','Engine','Power']]\n",
        "numeric_data.plot(kind='box', subplots = True, layout=(2,2), sharex = False, sharey = False, fontsize=10, figsize = (15, 15))\n",
        "plt.show()\n"
      ],
      "execution_count": null,
      "outputs": [
        {
          "output_type": "display_data",
          "data": {
            "image/png": "[encoded data removed]",
            "text/plain": [
              "<Figure size 1080x1080 with 4 Axes>"
            ]
          },
          "metadata": {
            "needs_background": "light"
          }
        }
      ]
    },
    {
      "cell_type": "markdown",
      "metadata": {
        "id": "mJOIcAlCUqR7"
      },
      "source": [
        "## Feature Encoding"
      ]
    },
    {
      "cell_type": "code",
      "metadata": {
        "id": "7FZXHIW0UpO8"
      },
      "source": [
        "label_encoder = LabelEncoder()\n",
        "y = data_temp.Price\n",
        "X = data_temp.drop(['Company', 'Base_Model','Price'],axis=1)\n",
        "X_obj = X.select_dtypes(exclude=['int64','float64'])\n",
        "X_num = X.select_dtypes(include=['int64','float64'])\n",
        "X_encoded = X_obj.apply(LabelEncoder().fit_transform)\n",
        "X = X_num.join(X_encoded)\n",
        "\n",
        "#PERFORMING SAME STEPS FOR TEST DATASET\n",
        "X_test = data_test.drop(['Company', 'Base_Model'],axis=1)\n",
        "X_obj_test = X_test.select_dtypes(exclude=['int64','float64'])\n",
        "X_num_test = X_test.select_dtypes(include=['int64','float64'])\n",
        "X_encoded_test = X_obj_test.apply(LabelEncoder().fit_transform)\n",
        "X_test = X_num_test.join(X_encoded_test)\n"
      ],
      "execution_count": null,
      "outputs": []
    },
    {
      "cell_type": "markdown",
      "metadata": {
        "id": "64OGgZ71nS7V"
      },
      "source": [
        "## Feature Normalization"
      ]
    },
    {
      "cell_type": "code",
      "metadata": {
        "id": "gljtH7QjsxS_"
      },
      "source": [
        "X_train, X_val, y_train, y_val = train_test_split(X, y, test_size = 0.2, random_state = 0) "
      ],
      "execution_count": null,
      "outputs": []
    },
    {
      "cell_type": "code",
      "metadata": {
        "id": "REkYs9gtnQMH"
      },
      "source": [
        "sc = StandardScaler()\n",
        "X_train = sc.fit_transform(X_train)\n",
        "X_val = sc.transform(X_val)\n",
        "X_test = sc.transform(X_test)"
      ],
      "execution_count": null,
      "outputs": []
    },
    {
      "cell_type": "markdown",
      "metadata": {
        "id": "nA2EnT5PoMhY"
      },
      "source": [
        "# Building Model"
      ]
    },
    {
      "cell_type": "markdown",
      "metadata": {
        "id": "2qj3oXsXpcAm"
      },
      "source": [
        "## RandomForest Regressor"
      ]
    },
    {
      "cell_type": "code",
      "metadata": {
        "colab": {
          "base_uri": "https://localhost:8080/"
        },
        "id": "ja8o66QvpbiW",
        "outputId": "e4519cd0-8236-41e7-e2e0-6a0ae90e0da1"
      },
      "source": [
        "from sklearn.ensemble import RandomForestRegressor\n",
        "reg = RandomForestRegressor(n_estimators = 100, random_state = 0)\n",
        "reg.fit(X_train,  y_train)"
      ],
      "execution_count": null,
      "outputs": [
        {
          "output_type": "execute_result",
          "data": {
            "text/plain": [
              "RandomForestRegressor(bootstrap=True, ccp_alpha=0.0, criterion='mse',\n",
              "                      max_depth=None, max_features='auto', max_leaf_nodes=None,\n",
              "                      max_samples=None, min_impurity_decrease=0.0,\n",
              "                      min_impurity_split=None, min_samples_leaf=1,\n",
              "                      min_samples_split=2, min_weight_fraction_leaf=0.0,\n",
              "                      n_estimators=100, n_jobs=None, oob_score=False,\n",
              "                      random_state=0, verbose=0, warm_start=False)"
            ]
          },
          "metadata": {},
          "execution_count": 42
        }
      ]
    },
    {
      "cell_type": "code",
      "metadata": {
        "id": "Xg04IMJDrEqt"
      },
      "source": [
        "y_train_pred_rfr = reg.predict(X_train)\n",
        "y_val_pred_rfr = reg.predict(X_val)\n",
        "y_test_pred_rfr = reg.predict(X_test)"
      ],
      "execution_count": null,
      "outputs": []
    },
    {
      "cell_type": "markdown",
      "metadata": {
        "id": "If8y9uLyujbs"
      },
      "source": [
        "Score"
      ]
    },
    {
      "cell_type": "code",
      "metadata": {
        "id": "pVmKFwsRrYWI",
        "colab": {
          "base_uri": "https://localhost:8080/"
        },
        "outputId": "f7acef34-e70c-4c8e-89e9-4dd67aebd410"
      },
      "source": [
        "rfr_train_RMSE = np.sqrt(mean_squared_error(y_train,y_train_pred_rfr))\n",
        "rfr_val_RMSE = np.sqrt(mean_squared_error(y_val,y_val_pred_rfr))\n",
        "print('RandomForestRegressor Train RMSE: ', rfr_train_RMSE)\n",
        "print('RandomForestRegressor Validation RMSE: ', rfr_val_RMSE)"
      ],
      "execution_count": null,
      "outputs": [
        {
          "output_type": "stream",
          "name": "stdout",
          "text": [
            "RandomForestRegressor Train RMSE:  0.6858765222371338\n",
            "RandomForestRegressor Validation RMSE:  1.606821459787969\n"
          ]
        }
      ]
    },
    {
      "cell_type": "code",
      "metadata": {
        "id": "OamS5fFtsmRm",
        "colab": {
          "base_uri": "https://localhost:8080/"
        },
        "outputId": "d0d8037a-6f31-44a4-94c8-be9a0399a22e"
      },
      "source": [
        "rfr_train_score = reg.score(X_train, y_train)\n",
        "rfr_val_score = reg.score(X_val, y_val)\n",
        "print('Train Score: ', rfr_train_score)\n",
        "print('Validation Score: ', rfr_val_score)"
      ],
      "execution_count": null,
      "outputs": [
        {
          "output_type": "stream",
          "name": "stdout",
          "text": [
            "Train Score:  0.9913967420429581\n",
            "Validation Score:  0.9495671380480117\n"
          ]
        }
      ]
    },
    {
      "cell_type": "code",
      "metadata": {
        "colab": {
          "base_uri": "https://localhost:8080/"
        },
        "id": "mGuX0QNHIfiV",
        "outputId": "9559c73b-5563-45cf-d635-0e15c48b5a55"
      },
      "source": [
        "from sklearn import ensemble\n",
        "clf = ensemble.GradientBoostingRegressor(n_estimators = 400, max_depth = 5, min_samples_split = 2, learning_rate = 0.1)\n",
        "clf.fit(X_train,y_train)"
      ],
      "execution_count": null,
      "outputs": [
        {
          "output_type": "execute_result",
          "data": {
            "text/plain": [
              "GradientBoostingRegressor(alpha=0.9, ccp_alpha=0.0, criterion='friedman_mse',\n",
              "                          init=None, learning_rate=0.1, loss='ls', max_depth=5,\n",
              "                          max_features=None, max_leaf_nodes=None,\n",
              "                          min_impurity_decrease=0.0, min_impurity_split=None,\n",
              "                          min_samples_leaf=1, min_samples_split=2,\n",
              "                          min_weight_fraction_leaf=0.0, n_estimators=400,\n",
              "                          n_iter_no_change=None, presort='deprecated',\n",
              "                          random_state=None, subsample=1.0, tol=0.0001,\n",
              "                          validation_fraction=0.1, verbose=0, warm_start=False)"
            ]
          },
          "metadata": {},
          "execution_count": 46
        }
      ]
    },
    {
      "cell_type": "code",
      "metadata": {
        "id": "SvSKrRLYLqlF"
      },
      "source": [
        "y_train_pred_clf = clf.predict(X_train)\n",
        "y_val_pred_clf = clf.predict(X_val)\n",
        "y_test_pred_clf = clf.predict(X_test)"
      ],
      "execution_count": null,
      "outputs": []
    },
    {
      "cell_type": "code",
      "metadata": {
        "colab": {
          "base_uri": "https://localhost:8080/"
        },
        "id": "job4fjJ3LObS",
        "outputId": "48b87dce-9e84-49a9-cccb-d40ee2f09811"
      },
      "source": [
        "clf_train_RMSE = np.sqrt(mean_squared_error(y_train,y_train_pred_clf))\n",
        "clf_val_RMSE = np.sqrt(mean_squared_error(y_val,y_val_pred_clf))\n",
        "print('GradientBoostingRegressor Train RMSE: ', clf_train_RMSE)\n",
        "print('GradientBoostingRegressor Validation RMSE: ', clf_val_RMSE)"
      ],
      "execution_count": null,
      "outputs": [
        {
          "output_type": "stream",
          "name": "stdout",
          "text": [
            "GradientBoostingRegressor Train RMSE:  0.4447037466947167\n",
            "GradientBoostingRegressor Validation RMSE:  1.6079052567768193\n"
          ]
        }
      ]
    },
    {
      "cell_type": "code",
      "metadata": {
        "colab": {
          "base_uri": "https://localhost:8080/"
        },
        "id": "RMoUSe0nLXTl",
        "outputId": "9c60ae8f-f6ce-4811-ae2b-7f1f2edf5e2d"
      },
      "source": [
        "clf_train_score = clf.score(X_train, y_train)\n",
        "clf_val_score = clf.score(X_val, y_val)\n",
        "print('Train Score: ', clf_train_score)\n",
        "print('Validation Score: ', clf_val_score)"
      ],
      "execution_count": null,
      "outputs": [
        {
          "output_type": "stream",
          "name": "stdout",
          "text": [
            "Train Score:  0.9963832986556822\n",
            "Validation Score:  0.9494990814294466\n"
          ]
        }
      ]
    },
    {
      "cell_type": "markdown",
      "metadata": {
        "id": "9ThpxePiPvR6"
      },
      "source": [
        "RandomForestRegressor and GradientBoostingRegressor have approximately same accuracies for validation data"
      ]
    },
    {
      "cell_type": "code",
      "metadata": {
        "id": "ABJoCwbeveGV",
        "colab": {
          "base_uri": "https://localhost:8080/"
        },
        "outputId": "8d022d8f-2967-4298-ec61-3235a8c3a30e"
      },
      "source": [
        "y_test_pred =  clf.predict(X_test)\n",
        "y_test_pred.shape"
      ],
      "execution_count": null,
      "outputs": [
        {
          "output_type": "execute_result",
          "data": {
            "text/plain": [
              "(1234,)"
            ]
          },
          "metadata": {},
          "execution_count": 50
        }
      ]
    },
    {
      "cell_type": "code",
      "metadata": {
        "id": "L5usc6s6vBWI"
      },
      "source": [
        "y_test_pred = pd.DataFrame(y_test_pred)\n",
        "y_test_pred.columns = ['Price']\n",
        "y_test_pred.to_csv('/drive/My Drive/MachineHack/submission5.csv', index=False)"
      ],
      "execution_count": null,
      "outputs": []
    }
  ]
}